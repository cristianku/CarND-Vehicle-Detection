{
 "cells": [
  {
   "cell_type": "code",
   "execution_count": 65,
   "metadata": {
    "collapsed": true
   },
   "outputs": [],
   "source": [
    "import matplotlib.image as mpimg\n",
    "import matplotlib.pyplot as plt\n",
    "import numpy as np\n",
    "import cv2\n",
    "import glob\n",
    "import time\n",
    "import sklearn.svm as svm\n",
    "from sklearn.preprocessing import StandardScaler\n",
    "from skimage.feature import hog\n",
    "from sklearn.model_selection import GridSearchCV\n",
    "from sklearn.model_selection import RandomizedSearchCV\n",
    "\n",
    "\n"
   ]
  },
  {
   "cell_type": "code",
   "execution_count": 66,
   "metadata": {},
   "outputs": [
    {
     "name": "stdout",
     "output_type": "stream",
     "text": [
      "[MoviePy] >>>> Building video test_video_output.mp4\n",
      "[MoviePy] Writing video test_video_output.mp4\n"
     ]
    },
    {
     "name": "stderr",
     "output_type": "stream",
     "text": [
      " 98%|█████████▊| 50/51 [00:04<00:00,  7.36it/s]\n"
     ]
    },
    {
     "name": "stdout",
     "output_type": "stream",
     "text": [
      "[MoviePy] Done.\n",
      "[MoviePy] >>>> Video ready: test_video_output.mp4 \n",
      "\n",
      "CPU times: user 2.22 s, sys: 292 ms, total: 2.51 s\n",
      "Wall time: 6.21 s\n",
      "Completed\n"
     ]
    }
   ],
   "source": [
    "import numpy as np\n",
    "import cv2\n",
    "import matplotlib.pyplot as plt\n",
    "import matplotlib.image as mpimg\n",
    "\n",
    "class save_images ( object ):\n",
    "    def __init__( self ):\n",
    "        self.i = 0\n",
    "    def __call__( self, image):\n",
    "        # do something\n",
    "        self.i +=1\n",
    "        cv2.imwrite(\"test_images2/image\" + str(self.i) + \".jpg\", cv2.cvtColor(image, cv2.COLOR_BGR2RGB))\n",
    "        \n",
    "        return image\n",
    "    \n",
    "save_images = save_images()    \n",
    "    \n",
    "## creating additional test images\n",
    "from moviepy.editor import VideoFileClip\n",
    "output_video_name = 'test_video_output.mp4'\n",
    "clip1 = VideoFileClip(\"test_video.mp4\")\n",
    "clip2 = clip1.subclip(0,2)\n",
    "output_video = clip2.fl_image(save_images) #NOTE: this function expects color images!!\n",
    "%time output_video.write_videofile(output_video_name, audio=False)\n",
    "import os\n",
    "os.remove('test_video_output.mp4')\n",
    "print (\"Completed\")\n"
   ]
  },
  {
   "cell_type": "markdown",
   "metadata": {},
   "source": [
    "## image_features_extractor"
   ]
  },
  {
   "cell_type": "code",
   "execution_count": 54,
   "metadata": {
    "collapsed": true
   },
   "outputs": [],
   "source": [
    "class image_features_extractor:\n",
    "    def __init__(self    \\\n",
    "        ,color_space           # Can be RGB, HSV, LUV, HLS, YUV, YCrCb\n",
    "        ,orient                # HOG orientations \n",
    "        ,pix_per_cell          # HOG pixels per cell \n",
    "        ,cell_per_block        # HOG cells per block \n",
    "        ,spatial_size          # Spatial binning dimensions\n",
    "        ,spatial_feat          # Spatial features on or off\n",
    "        ,hist_feat             # Histogram features on or off\n",
    "        ,hog_feat              # HOG features on or off\n",
    "        ,nbins                 # Number of color histogram bins\n",
    "        ,bins_range\n",
    "        ,debug=False\n",
    "        ,image_size=(32,32)\n",
    "                ):\n",
    "\n",
    "        self.color_space = color_space\n",
    "        self.orient = orient\n",
    "        self.pix_per_cell = pix_per_cell\n",
    "        self.cell_per_block = cell_per_block\n",
    "        self.spatial_size = spatial_size\n",
    "        self.spatial_feat = spatial_feat\n",
    "        self.hist_feat = hist_feat\n",
    "        self.hog_feat = hog_feat\n",
    "        self.nbins=nbins\n",
    "        self.bins_range=bins_range\n",
    "        self.debug =debug\n",
    "        self.image_size = image_size\n",
    "\n",
    "    # Define a function to compute binned color features  \n",
    "    def bin_spatial(self,feature_image):\n",
    "        # Use cv2.resize().ravel() to create the feature vector\n",
    "        features = cv2.resize(feature_image, self.spatial_size).ravel() \n",
    "        # Return the feature vector\n",
    "        return features\n",
    "\n",
    "    # Define a function to compute color histogram features  \n",
    "    def color_hist(self,feature_image):\n",
    "        # Compute the histogram of the color channels separately\n",
    "        channel1_hist = np.histogram(feature_image[:,:,0], bins=self.nbins, range=self.bins_range)\n",
    "        channel2_hist = np.histogram(feature_image[:,:,1], bins=self.nbins, range=self.bins_range)\n",
    "        channel3_hist = np.histogram(feature_image[:,:,2], bins=self.nbins, range=self.bins_range)\n",
    "        # Concatenate the histograms into a single feature vector\n",
    "        hist_features = np.concatenate((channel1_hist[0], channel2_hist[0], channel3_hist[0]))\n",
    "#         hist_features = channel1_hist[0]\n",
    "\n",
    "        if self.debug:\n",
    "            # Generating bin centers\n",
    "            bin_edges = channel1_hist[1]\n",
    "            bin_centers = (bin_edges[1:]  + bin_edges[0:len(bin_edges)-1])/2\n",
    "            # Plot a figure with all three bar charts\n",
    "            fig = plt.figure(figsize=(12,3))\n",
    "            plt.subplot(131)\n",
    "            plt.bar(bin_centers, channel1_hist[0])\n",
    "            plt.xlim(0, 256)\n",
    "            plt.title('Channel 0 Histogram')\n",
    "            plt.subplot(132)\n",
    "            plt.bar(bin_centers, channel2_hist[0])\n",
    "            plt.xlim(0, 256)\n",
    "            plt.title('Channel 1 Histogram')\n",
    "            plt.subplot(133)\n",
    "            plt.bar(bin_centers, channel3_hist[0])\n",
    "            plt.xlim(0, 256)\n",
    "            plt.title('Channel 2 Histogram')\n",
    "            plt.show()\n",
    "\n",
    "        # Return the individual histograms, bin_centers and feature vector\n",
    "        return hist_features\n",
    "\n",
    "    def get_hog_features(self, feature_image):\n",
    "        if self.debug:\n",
    "            # feature_image is 1 channel image\n",
    "            hog_features ,hog_image    = hog(feature_image, \n",
    "                                  orientations=self.orient, \n",
    "                                  pixels_per_cell=(self.pix_per_cell, self.pix_per_cell),\n",
    "                                  cells_per_block=(self.cell_per_block, self.cell_per_block), \n",
    "                                  block_norm='L2-Hys',\n",
    "                                  transform_sqrt=True, \n",
    "                                  visualise=True, feature_vector=True)\n",
    "\n",
    "            plt.imshow(hog_image)\n",
    "            plt.title(\"Histogram of Oriented Gradients\")\n",
    "            plt.axis(\"off\")\n",
    "            plt.show()\n",
    "            return hog_features\n",
    "\n",
    "        \n",
    "        else:\n",
    "            # feature_image is 1 channel image\n",
    "            hog_features     = hog(feature_image, \n",
    "                                  orientations=self.orient, \n",
    "                                  pixels_per_cell=(self.pix_per_cell, self.pix_per_cell),\n",
    "                                  cells_per_block=(self.cell_per_block, self.cell_per_block), \n",
    "                                  block_norm='L2-Hys',\n",
    "                                  transform_sqrt=True, \n",
    "                                  visualise=False, feature_vector=True)\n",
    "            return hog_features\n",
    "\n",
    "\n",
    "\n",
    "    def get_all_features (self, img):\n",
    "        if self.debug:\n",
    "            print( \"get_all_features image shape \"+ str(img.shape))\n",
    "        if self.color_space != 'RGB':\n",
    "            if self.color_space == 'HSV':\n",
    "                feature_image = cv2.cvtColor(img, cv2.COLOR_RGB2HSV)\n",
    "            elif self.color_space == 'LUV':\n",
    "                feature_image = cv2.cvtColor(img, cv2.COLOR_RGB2LUV)\n",
    "            elif self.color_space == 'HLS':\n",
    "                feature_image = cv2.cvtColor(img, cv2.COLOR_RGB2HLS)\n",
    "            elif self.color_space == 'YUV':\n",
    "                feature_image = cv2.cvtColor(img, cv2.COLOR_RGB2YUV)\n",
    "            elif self.color_space == 'YCrCb':\n",
    "                feature_image = cv2.cvtColor(img, cv2.COLOR_RGB2YCrCb)\n",
    "        else: \n",
    "            feature_image = np.copy(img)\n",
    "\n",
    "        feature_image = cv2.resize(feature_image, self.image_size)    \n",
    "        if self.debug:\n",
    "            f, (ax1, ax2,ax3) = plt.subplots(1, 3, figsize=(24, 9))\n",
    "            f.tight_layout()\n",
    "            \n",
    "\n",
    "            ax1.imshow(feature_image[:,:,0],cmap=\"gray\")\n",
    "            ax1.set_title(\"Image in format \" + self.color_space + \" channel 0 \")\n",
    "            ax1.axis('off')\n",
    "            \n",
    "            ax2.imshow(feature_image[:,:,1],cmap=\"gray\")\n",
    "            ax2.set_title(\"Image in format \" + self.color_space+ \" channel 1 \")\n",
    "            ax2.axis('off')\n",
    "\n",
    "            ax3.imshow(feature_image[:,:,2],cmap=\"gray\")\n",
    "            ax3.set_title(\"Image in format \" + self.color_space+ \" channel 2 \")\n",
    "            ax3.axis('off')\n",
    "\n",
    "            plt.subplots_adjust(left=0., right=1, top=0.9, bottom=0.)\n",
    "            plt.show()\n",
    "\n",
    "\n",
    "            \n",
    "        img_features = []\n",
    "\n",
    "        if self.spatial_feat == True:\n",
    "            img_features.append(self.bin_spatial(feature_image))\n",
    "\n",
    "        if self.hist_feat == True:\n",
    "            img_features.append(self.color_hist(feature_image))\n",
    "            \n",
    "        if self.hog_feat == True:\n",
    "            feature_image_resized = cv2.resize(feature_image, (32,32))\n",
    "            hog_features = []\n",
    "            for channel in range(feature_image_resized.shape[2]):\n",
    "                temp = self.get_hog_features(feature_image_resized[:,:,channel])\n",
    "                hog_features.extend(temp)      \n",
    "            img_features.append(hog_features)\n",
    "            \n",
    "        #9) Return concatenated array of features\n",
    "    #     print (img_features)\n",
    "        return np.concatenate(img_features)                \n",
    "    "
   ]
  },
  {
   "cell_type": "markdown",
   "metadata": {},
   "source": [
    "### Car Detector from images ( train & prediction )"
   ]
  },
  {
   "cell_type": "code",
   "execution_count": 55,
   "metadata": {
    "collapsed": true
   },
   "outputs": [],
   "source": [
    "class image_car_detector:\n",
    "    def __init__(self, extractor, \n",
    "                 cars_folder='vehicles', \n",
    "                 notcars_folder='non-vehicles',\n",
    "                 limit_images=None):\n",
    "        self.cars_folder    = cars_folder\n",
    "        self.notcars_folder = notcars_folder\n",
    "\n",
    "        self.car_images_list     = []\n",
    "        self.notcars_images_list = []\n",
    "        self.extractor = extractor\n",
    "        \n",
    "        self.car_features = []\n",
    "        self.notcar_features = []\n",
    "        self.limit_images = limit_images\n",
    "\n",
    "        \n",
    "    def load_images_list(self):\n",
    "        self.car_images_list     = []\n",
    "        self.notcars_images_list = []\n",
    "    \n",
    "        # loading cars\n",
    "        for subfolder in glob.glob(self.cars_folder + '/*'):\n",
    "          print (\"subfolder = \" + subfolder)\n",
    "          for image  in  glob.glob(subfolder+'/*'):\n",
    "               self.car_images_list.append(image)\n",
    "\n",
    "        # loading non cars\n",
    "        for subfolder in glob.glob(self.notcars_folder+ '/*'):\n",
    "          for image  in  glob.glob(subfolder+'/*'):\n",
    "               self.notcars_images_list.append(image)\n",
    "    \n",
    "    # Define a function to extract features from a list of images\n",
    "    # Have this function call bin_spatial() and color_hist()\n",
    "    def extract_imgs_features(self):\n",
    "        # Iterate through the list of images\n",
    "        if self.limit_images:\n",
    "            x_limit = self.limit_images\n",
    "            print (\" limiting the number of images to \" + str(x_limit))\n",
    "        else:\n",
    "            x_limit = len(self.car_images_list)\n",
    "            print (\" processing \" + str(x_limit) +\" images \"  )\n",
    "\n",
    "#         x_limit = 100\n",
    "        print ( \" \")\n",
    "        print (\" Extracting features from cars ....\")\n",
    "        # CARS FEATURES \n",
    "        self.car_features = []\n",
    "\n",
    "\n",
    "        for file in self.car_images_list[:x_limit]:\n",
    "            image = cv2.imread(file)\n",
    "            image = cv2.cvtColor(image, cv2.COLOR_BGR2RGB)\n",
    "\n",
    "            self.car_features.append(self.extractor.get_all_features(image))\n",
    "            \n",
    "        print (\" .. completed ( features per image = \" + str(len(self.car_features[0])) + \")\")\n",
    "\n",
    "            \n",
    "        print ( \" \")\n",
    "        print (\" Extracting features from non cars ....\")\n",
    "        # NOT CAR FEATURES \n",
    "        self.notcar_features = []\n",
    "        # Iterate through the list of images\n",
    "        for file in self.notcars_images_list[:x_limit]:\n",
    "            image = cv2.imread(file)\n",
    "            image = cv2.cvtColor(image, cv2.COLOR_BGR2RGB)\n",
    "            self.notcar_features.append(self.extractor.get_all_features(image))\n",
    "        print (\" .. completed ( features per image = \" + str(len(self.notcar_features[0])) + \")\")\n",
    "\n",
    "        print (\" \")\n",
    "\n",
    "        \n",
    "    def detector_train(self, parameters=[1, 10]):\n",
    "        print ( \"Starting the training ....\")\n",
    "        if len(self.car_features) == 0:\n",
    "            print ( \" ... extracting the features \")\n",
    "            self.extract_imgs_features()\n",
    "        \n",
    "        X = np.vstack((self.car_features, self.notcar_features)).astype(np.float64)                        \n",
    "\n",
    "        print (\".....Scaling...\")\n",
    "        # Fit a per-column scaler\n",
    "        self.X_scaler = StandardScaler().fit(X)\n",
    "        # Apply the scaler to X\n",
    "        scaled_X = self.X_scaler.transform(X)\n",
    "        \n",
    "        y = np.hstack((np.ones(len(self.car_features)), np.zeros(len(self.notcar_features))))\n",
    "\n",
    "        from sklearn.model_selection import train_test_split\n",
    "\n",
    "        # Split up data into randomized training and test sets\n",
    "        rand_state = np.random.randint(0, 100)\n",
    "        X_train, X_test, y_train, y_test = train_test_split(\n",
    "            scaled_X, y, test_size=0.2, random_state=rand_state)\n",
    "\n",
    "\n",
    "        #################\n",
    "        # #### START TRAINING \n",
    "        #################\n",
    "        from sklearn.svm import LinearSVC\n",
    "        from sklearn.svm import SVC\n",
    "\n",
    "        import time\n",
    "\n",
    "        print ( \"Start training ... \")\n",
    "        t=time.time()\n",
    "\n",
    "        self.clf = svm.LinearSVC()\n",
    "\n",
    "        ### Grid search SVC\n",
    "#         Cs = [0.001, 0.01, 0.1, 1, 10]\n",
    "#         gammas = [0.001, 0.01, 0.1, 1]\n",
    "#         param_grid = {'C': Cs, 'gamma' : gammas}\n",
    "#         self.clf = GridSearchCV(SVC(kernel='rbf'), param_grid)\n",
    "        self.clf.fit(X_train, y_train)\n",
    "        \n",
    "#         self.clf = SVC(kernel='poly')\n",
    "#         self.clf.fit(X_train, y_train)\n",
    "\n",
    "        t2 = time.time()\n",
    "        print(round(t2-t, 2), 'Seconds to train SVC...')\n",
    "\n",
    "        # Check the score of the SVC\n",
    "        print('Test Accuracy of SVC = ', round(self.clf.score(X_test, y_test), 4))\n",
    "\n",
    "    def save_classifier(self):\n",
    "        import pickle\n",
    "        # save the classifier\n",
    "        with open('car_detection_classifier.pkl', 'wb') as fid:\n",
    "            pickle.dump(self.clf, fid) \n",
    "            \n",
    "        with open('X_scaler.pkl', 'wb') as fid:\n",
    "            pickle.dump(self.X_scaler, fid) \n",
    "        print (\" .. classifier saved \")    \n",
    "\n",
    "    def load_classifier(self):\n",
    "        import pickle\n",
    "        # save the classifier\n",
    "        with open('car_detection_classifier.pkl', 'rb') as fid:\n",
    "            self.clf = pickle.load(fid)\n",
    "        with open('X_scaler.pkl', 'rb') as fid:\n",
    "            self.X_scaler = pickle.load(fid)\n",
    "\n",
    "        print (\" .. classifier loaded \")    \n",
    "\n",
    "\n",
    "    def search_windows(self, img, windows):\n",
    "        self.on_windows = []\n",
    "        for window in windows:\n",
    "            #3) Extract the test window from original image\n",
    "            test_img = img[window[0][1]:window[1][1], window[0][0]:window[1][0]]\n",
    "            #4) Extract features for that window using single_img_features()\n",
    "            features = self.extractor.get_all_features(test_img)\n",
    "            #5) Scale extracted features to be fed to classifier\n",
    "            test_features = self.X_scaler.transform(np.array(features).reshape(1, -1))\n",
    "            \n",
    "            #6) Predict using your classifier\n",
    "            prediction = self.clf.predict(test_features)\n",
    "            #7) If positive (prediction == 1) then save the window\n",
    "            if prediction == 1:\n",
    "                self.on_windows.append(window)\n",
    "#                 print ( \"prediction = 1 \")\n",
    "#                 plt.title(\"prediction = 1 \")\n",
    "#             else:\n",
    "#                 plt.title(\"prediction = 0 \")\n",
    "\n",
    "#             plt.axis('off')\n",
    "#             plt.imshow(test_img)\n",
    "#             plt.show()\n",
    "\n",
    "\n",
    "                \n",
    "        return self.on_windows\n",
    "\n",
    "            "
   ]
  },
  {
   "cell_type": "code",
   "execution_count": 56,
   "metadata": {
    "collapsed": true
   },
   "outputs": [],
   "source": [
    "from sklearn.svm import SVC\n",
    "\n"
   ]
  },
  {
   "cell_type": "code",
   "execution_count": 58,
   "metadata": {},
   "outputs": [
    {
     "name": "stdout",
     "output_type": "stream",
     "text": [
      "(64, 64, 3)\n"
     ]
    },
    {
     "data": {
      "image/png": "[encoded data removed]",
      "text/plain": [
       "<matplotlib.figure.Figure at 0x114728630>"
      ]
     },
     "metadata": {},
     "output_type": "display_data"
    },
    {
     "name": "stdout",
     "output_type": "stream",
     "text": [
      "get_all_features image shape (64, 64, 3)\n"
     ]
    },
    {
     "data": {
      "image/png": "[encoded data removed]",
      "text/plain": [
       "<matplotlib.figure.Figure at 0x114ccac88>"
      ]
     },
     "metadata": {},
     "output_type": "display_data"
    },
    {
     "data": {
      "image/png": "[encoded data removed]",
      "text/plain": [
       "<matplotlib.figure.Figure at 0x114e4bba8>"
      ]
     },
     "metadata": {},
     "output_type": "display_data"
    },
    {
     "data": {
      "image/png": "[encoded data removed]",
      "text/plain": [
       "<matplotlib.figure.Figure at 0x114463e48>"
      ]
     },
     "metadata": {},
     "output_type": "display_data"
    },
    {
     "data": {
      "image/png": "[encoded data removed]",
      "text/plain": [
       "<matplotlib.figure.Figure at 0x115f25518>"
      ]
     },
     "metadata": {},
     "output_type": "display_data"
    },
    {
     "data": {
      "image/png": "[encoded data removed]",
      "text/plain": [
       "<matplotlib.figure.Figure at 0x1142d8a90>"
      ]
     },
     "metadata": {},
     "output_type": "display_data"
    }
   ],
   "source": [
    "import cv2\n",
    "image = cv2.imread('vehicles/other/image0099.png')\n",
    "print ( image.shape)\n",
    "# image = cv2.imread('test_images/test1.jpg')\n",
    "image = cv2.cvtColor(image, cv2.COLOR_BGR2RGB)\n",
    "# color space = RGB, HSV, LUV, HLS, YUV, YCrCb\n",
    "extractor = image_features_extractor(color_space= 'YCrCb' #'YCrCb'\n",
    "                                    ,pix_per_cell=4\n",
    "                                    ,cell_per_block=2\n",
    "                                     \n",
    "                                    ,orient=9\n",
    "                                    ,spatial_feat = True     # Spatial features on or off\n",
    "                                    ,hist_feat = True        # Histogram features on or off\n",
    "                                    ,hog_feat = True  \n",
    "                                    ,spatial_size = (32, 32)\n",
    "                                    ,bins_range=(0, 256)\n",
    "                                    ,nbins=32\n",
    "                                    , debug=True\n",
    "                                    , image_size = (64,64)  \n",
    "                                    )\n",
    "plt.imshow(image)\n",
    "plt.axis(\"off\")\n",
    "plt.show()\n",
    "\n",
    "all_features = extractor.get_all_features(image)\n"
   ]
  },
  {
   "cell_type": "code",
   "execution_count": 59,
   "metadata": {},
   "outputs": [
    {
     "name": "stdout",
     "output_type": "stream",
     "text": [
      "subfolder = vehicles/GTI_Right\n",
      "subfolder = vehicles/GTI_MiddleClose\n",
      "subfolder = vehicles/GTI_Far\n",
      "subfolder = vehicles/other\n",
      "subfolder = vehicles/GTI_Left\n",
      "subfolder = vehicles/KITTI_extracted\n",
      " processing 8804 images \n",
      " \n",
      " Extracting features from cars ....\n",
      " .. completed ( features per image = 8460)\n",
      " \n",
      " Extracting features from non cars ....\n",
      " .. completed ( features per image = 8460)\n",
      " \n"
     ]
    }
   ],
   "source": [
    "extractor.debug = False\n",
    "\n",
    "detector = image_car_detector(extractor) #, limit_images= 2000)\n",
    "\n",
    "detector.load_images_list()\n",
    "\n",
    "detector.extract_imgs_features()\n",
    "\n"
   ]
  },
  {
   "cell_type": "code",
   "execution_count": 60,
   "metadata": {},
   "outputs": [
    {
     "name": "stdout",
     "output_type": "stream",
     "text": [
      "Starting the training ....\n",
      ".....Scaling...\n",
      "Start training ... \n",
      "57.93 Seconds to train SVC...\n",
      "Test Accuracy of SVC =  0.985\n",
      " .. classifier saved \n",
      " .. classifier loaded \n"
     ]
    }
   ],
   "source": [
    "detector.detector_train()\n",
    "\n",
    "detector.save_classifier()\n",
    "detector.load_classifier()"
   ]
  },
  {
   "cell_type": "code",
   "execution_count": null,
   "metadata": {
    "collapsed": true
   },
   "outputs": [],
   "source": []
  },
  {
   "cell_type": "code",
   "execution_count": 61,
   "metadata": {
    "collapsed": true
   },
   "outputs": [],
   "source": [
    "class window_extractor:\n",
    "    def __init__(self, image,               \\\n",
    "                 window_dimension=32,  \\\n",
    "                 x_start_stop=[None, None], \\\n",
    "                 y_start_stop=[350, None], \\\n",
    "                 x_overlap=0.5, y_overlap=0.5):\n",
    "        \n",
    "        self.image           = image\n",
    "        self.xy_window       = (window_dimension, window_dimension)\n",
    "        self.xy_overlap      = (x_overlap, y_overlap)\n",
    "        self.x_start_stop    = x_start_stop\n",
    "        self.y_start_stop    = y_start_stop\n",
    "        \n",
    "        # If x and/or y start/stop positions not defined, set to image size\n",
    "        #     print (x_start_stop)\n",
    "        if self.x_start_stop[0] == None:\n",
    "            self.x_start_stop[0] = 0\n",
    "        if self.x_start_stop[1] == None:\n",
    "            self.x_start_stop[1] = self.image.shape[1]\n",
    "        if self.y_start_stop[0] == None:\n",
    "            self.y_start_stop[0] = 0\n",
    "        if self.y_start_stop[1] == None:\n",
    "            self.y_start_stop[1] = self.image.shape[0]\n",
    "\n",
    "        # Compute the span of the region to be searched    \n",
    "        self.xspan = self.x_start_stop[1] - self.x_start_stop[0]\n",
    "        self.yspan = self.y_start_stop[1] - self.y_start_stop[0]\n",
    "        \n",
    "        # Compute the number of pixels per step in x/y\n",
    "        self.nx_pix_per_step = np.int(self.xy_window[0]*(1 - self.xy_overlap[0]))\n",
    "        self.ny_pix_per_step = np.int(self.xy_window[1]*(1 - self.xy_overlap[1]))\n",
    "        \n",
    "        # Compute the number of windows in x/y\n",
    "        self.nx_buffer = np.int(self.xy_window[0]*(self.xy_overlap[0]))\n",
    "        self.ny_buffer = np.int(self.xy_window[1]*(self.xy_overlap[1]))\n",
    "        self.nx_windows = np.int((self.xspan-self.nx_buffer)/self.nx_pix_per_step) \n",
    "        self.ny_windows = np.int((self.yspan-self.ny_buffer)/self.ny_pix_per_step) \n",
    "\n",
    "\n",
    "\n",
    "    def get_windows(self):\n",
    "        # Initialize a list to append window positions to\n",
    "        self.window_list = []\n",
    "        # Loop through finding x and y window positions\n",
    "        # Note: you could vectorize this step, but in practice\n",
    "        # you'll be considering windows one by one with your\n",
    "        # classifier, so looping makes sense\n",
    "        for ys in range(self.ny_windows):\n",
    "            for xs in range(self.nx_windows):\n",
    "                # Calculate window position\n",
    "                startx = xs*self.nx_pix_per_step + self.x_start_stop[0]\n",
    "                endx = startx + self.xy_window[0]\n",
    "                starty = ys*self.ny_pix_per_step + self.y_start_stop[0]\n",
    "                endy = starty + self.xy_window[1]\n",
    "                # Append window position to list\n",
    "                self.window_list.append(((startx, starty), (endx, endy)))\n",
    "        # Return the list of windows\n",
    "        return self.window_list\n",
    "    \n",
    "    def draw_boxes(self,hot_windows, color=(0, 0, 255), thick=6):\n",
    "        # Make a copy of the image\n",
    "        imcopy = np.copy(self.image)\n",
    "        tmp_window_list = hot_windows\n",
    "        for bbox in tmp_window_list:\n",
    "#             print (\"bbox = \" + str(bbox))\n",
    "            # Draw a rectangle given bbox coordinates\n",
    "            cv2.rectangle(imcopy, bbox[0], bbox[1], color, thick)\n",
    "        # Return the image copy with boxes drawn\n",
    "        return imcopy\n",
    "\n",
    "    "
   ]
  },
  {
   "cell_type": "code",
   "execution_count": 62,
   "metadata": {
    "collapsed": true
   },
   "outputs": [],
   "source": [
    "from scipy.ndimage.measurements import label\n",
    "\n",
    "class heat_map:\n",
    "    def __init__(self, boxes_list, image):\n",
    "            self.boxes = boxes_list\n",
    "            self.heatmap = np.zeros_like(image[:,:,0]).astype(np.float)\n",
    "            self.image = np.copy(image)\n",
    "            \n",
    "    \n",
    "    def add_heat(self):\n",
    "        # Iterate through list of bboxes\n",
    "        \n",
    "        for box in self.boxes :\n",
    "#             print (\"box = \" + str(box))\n",
    "            # Assuming each \"box\" takes the form ((x1, y1), (x2, y2))\n",
    "            self.heatmap[box[0][1]:box[1][1], box[0][0]:box[1][0]] += 1\n",
    "\n",
    "        # Return updated heatmap\n",
    "\n",
    "    def apply_threshold(self,threshold):\n",
    "#         print (\" Applying threshold = \" + str(threshold))\n",
    "        # Zero out pixels below the threshold\n",
    "        self.heatmap[self.heatmap < threshold] = 0\n",
    "        # Return thresholded map\n",
    "\n",
    "    def draw_labeled_bboxes(self):\n",
    "#         print (\"draw_labeled_bboxes .... \")\n",
    "        #scipy.ndimage.measurements.label\n",
    "        self.labels = label(self.heatmap)\n",
    "#         print (\"labels = \" + str(labels))\n",
    "        # Iterate through all detected cars\n",
    "        self.boxes = []\n",
    "        for car_number in range(1, self.labels[1]+1):\n",
    "#             print ( \" car_number = \" + str(car_number))\n",
    "            # Find pixels with each car_number label value\n",
    "            nonzero = (self.labels[0] == car_number).nonzero()\n",
    "            # Identify x and y values of those pixels\n",
    "            nonzeroy = np.array(nonzero[0])\n",
    "            nonzerox = np.array(nonzero[1])\n",
    "            # Define a bounding box based on min/max x and y\n",
    "            bbox = ((np.min(nonzerox), np.min(nonzeroy)), (np.max(nonzerox), np.max(nonzeroy)))\n",
    "            # Draw the box on the image\n",
    "            cv2.rectangle(self.image, bbox[0], bbox[1], (0,255,0), 6)\n",
    "            self.boxes.append(bbox)\n",
    "        # Return the image\n",
    "\n",
    "\n",
    "    "
   ]
  },
  {
   "cell_type": "markdown",
   "metadata": {
    "collapsed": true
   },
   "source": [
    "### Defining the class pipeline"
   ]
  },
  {
   "cell_type": "code",
   "execution_count": null,
   "metadata": {
    "collapsed": true
   },
   "outputs": [],
   "source": [
    "class pipeline:\n",
    "    def __init__(self, extractor, debug=False):\n",
    "        self.detector = image_car_detector(extractor)\n",
    "        self.detector.load_classifier()\n",
    "        self.debug= debug\n",
    "        self.boxes_history = []\n",
    "\n",
    "    def insert_boxes_history(self, boxes):\n",
    "        self.boxes_history.append(boxes)\n",
    "        ### keeping only the last 3 fits\n",
    "        self.boxes_history = self.boxes_history[-3:]\n",
    "\n",
    "        \n",
    "    def searchfor_windows_first(self):\n",
    "            self.windows = []\n",
    "            ##########  scale = 1\n",
    "            windows_ext = window_extractor(self.image, \n",
    "                                           window_dimension=64, \n",
    "                                           x_overlap = 0.4,\n",
    "                                           y_overlap = 0.4,\n",
    "                                           x_start_stop = [340,None],\n",
    "                                           y_start_stop = [400,496])\n",
    "            \n",
    "            for x in windows_ext.get_windows():\n",
    "                 self.windows.append(x)\n",
    "\n",
    "            ##########  scale = 1.25      \n",
    "            windows_ext = window_extractor(image, \n",
    "                                           window_dimension=int(64*1.25), \n",
    "                                           x_overlap = 0.4,\n",
    "                                           y_overlap = 0.4,\n",
    "                                           x_start_stop = [340,None],\n",
    "                                           y_start_stop = [400,550])\n",
    "            for x in windows_ext.get_windows():\n",
    "                 self.windows.append(x)\n",
    "\n",
    "\n",
    "            # ###########  scale = 1.5     \n",
    "            windows_ext = window_extractor(image, \n",
    "                                           window_dimension=int(64*1.5), \n",
    "                                           x_overlap = 0.4,\n",
    "                                           y_overlap = 0.4,\n",
    "                                           x_start_stop = [340,None],\n",
    "                                           y_start_stop = [400,600])\n",
    "            for x in windows_ext.get_windows():\n",
    "                 self.windows.append(x)\n",
    "\n",
    "        \n",
    "            # ###########  scale = 1.75   \n",
    "            windows_ext = window_extractor(image, \n",
    "                                           window_dimension=int(64*1.75), \n",
    "                                           x_overlap = 0.4,\n",
    "                                           y_overlap = 0.4,\n",
    "                                           x_start_stop = [340,None],\n",
    "                                           y_start_stop = [400,656])\n",
    "            for x in windows_ext.get_windows():\n",
    "                 self.windows.append(x)\n",
    "\n",
    "\n",
    "\n",
    "\n",
    "\n",
    "    def searchfor_windows_second(self, x_start_stop,y_start_stop):\n",
    "            \n",
    "\n",
    "            w_dim = int(( y_start_stop[0] /400 ) * 70 )\n",
    "            windows_ext = window_extractor(self.image, \n",
    "                                           window_dimension=w_dim, \n",
    "                                           x_overlap = 0.8,\n",
    "                                           y_overlap = 0.8,\n",
    "                                           x_start_stop=x_start_stop,\n",
    "                                           y_start_stop=y_start_stop)\n",
    "            \n",
    "            for x in windows_ext.get_windows():\n",
    "                 self.windows.append(x)\n",
    "        \n",
    "            if self.debug:\n",
    "                image_tmp = windows_ext.draw_boxes(self.windows)\n",
    "                return image_tmp\n",
    "            else:\n",
    "                return None\n",
    "\n",
    "\n",
    "\n",
    "    # search with different steps\n",
    "    # first search is with big windows and low number of windows to get a speed overview of the car positions\n",
    "    # secondly using the car position I will \"shut\" more smaller sliding windows in that area to find the \n",
    "    #          exact box around the car\n",
    "    def search_cars_by_steps(self,image):\n",
    "        self.image = image\n",
    "#         print ( \" self.image.shape \" + str(self.image.shape))\n",
    "\n",
    "        \n",
    "        ######################################################\n",
    "        ##              FIRST         STEP\n",
    "        ######################################################\n",
    "\n",
    "        self.windows = []\n",
    "        self.hot_windows = []\n",
    "        \n",
    "        ########\n",
    "        # creating a list of boxes\n",
    "        ########\n",
    "        tmp_image = self.searchfor_windows_first()\n",
    "        if self.debug:\n",
    "            image_tmp = window_extractor(self.image).draw_boxes(self.windows)\n",
    "            plt.imshow(image_tmp)    \n",
    "            plt.title(\" Boxes drawn on the image \")\n",
    "            plt.show()\n",
    "\n",
    "            \n",
    "\n",
    "        ########\n",
    "        # search for car detection in the above calculated boxes\n",
    "        ########\n",
    "        self.hot_windows = []\n",
    "        self.hot_windows = self.detector.search_windows(self.image, self.windows)\n",
    "        if self.debug:\n",
    "            tmp_image_hot = window_extractor(self.image).draw_boxes(self.hot_windows)\n",
    "            plt.imshow(tmp_image_hot)    \n",
    "            plt.title(\" Car boxes detected \")\n",
    "            plt.show()\n",
    "\n",
    "            \n",
    "        ########\n",
    "        # heat map\n",
    "        ########\n",
    "        self.heat = heat_map(self.hot_windows, self.image)\n",
    "        self.heat.add_heat()\n",
    "        self.heat.apply_threshold(threshold=2)\n",
    "#         self.heat.draw_labeled_bboxes()\n",
    "\n",
    "        if self.debug:\n",
    "            self.heat.draw_labeled_bboxes()\n",
    "            plt.imshow(self.heat.image)    \n",
    "            plt.title(\" First heat map\")\n",
    "\n",
    "            plt.show()\n",
    "\n",
    "\n",
    "# #         return tmp_image, tmp_image_hot, self.heat.image\n",
    "\n",
    "\n",
    "        ######################################################\n",
    "        ##              SECOND         STEP\n",
    "        ######################################################\n",
    "\n",
    "\n",
    "        if self.debug: print ( \" Second Step ....\")\n",
    "        self.windows = []\n",
    "        for box in self.heat.boxes:\n",
    "            x_start = int((box[0][0] ) * .95)\n",
    "            x_stop  = int((box[1][0] ) * 1.05)\n",
    "            y_start = int((box[0][1] ) * .95)\n",
    "            y_stop  = int((box[1][1] ) * 1.05)\n",
    "\n",
    "#             print (\" box = \" + \"x_start= \" + str(x_start) +  \" , \"  \n",
    "#                              + \"x_stop= \"  + str(x_stop)  +  \" , \"  \n",
    "#                              + \"y_start= \" + str(y_start) +  \" , \"  \n",
    "#                              + \"y_stop= \"  + str(y_stop)  +  \" , \"  \n",
    "#                   )\n",
    "            # creating a list of boxes\n",
    "            self.searchfor_windows_second( x_start_stop=[x_start,x_stop],\n",
    "                                           y_start_stop=[y_start,y_stop] )\n",
    "\n",
    "        if self.debug:\n",
    "            image_tmp = window_extractor(self.image).draw_boxes(self.windows)\n",
    "            plt.imshow(image_tmp)    \n",
    "            plt.title(\" Boxes drawn on the image (second step )\")\n",
    "            plt.show()\n",
    "\n",
    "            \n",
    "        # search for car detection in the above calculated boxes\n",
    "        if self.debug:print (\" Searching for windows with cars \")\n",
    "        if self.debug:print ( \" .. Number of boxes = \" + str(len(self.windows)) )\n",
    "        self.hot_windows = []\n",
    "        self.hot_windows = self.detector.search_windows(self.image, self.windows)\n",
    "        if self.debug:\n",
    "            tmp_image_hot = window_extractor(self.image).draw_boxes(self.hot_windows)\n",
    "            plt.imshow(tmp_image_hot)    \n",
    "            plt.title(\" Car boxes detected \")\n",
    "            plt.show()\n",
    "\n",
    "        ########\n",
    "        # heat map\n",
    "        ########\n",
    "        if self.debug: print (\"Creating heat_map ... \")\n",
    "        self.heat = heat_map(self.hot_windows, self.image)\n",
    "        self.heat.add_heat()\n",
    "        self.heat.apply_threshold(threshold=3)\n",
    "        \n",
    "        self.heat.draw_labeled_bboxes()\n",
    "\n",
    "        if self.debug:\n",
    "            plt.imshow(self.heat.image)    \n",
    "            plt.title(\" Second heat map\")\n",
    "\n",
    "            plt.show()\n",
    "\n",
    "\n",
    "        if self.debug: print(\".... Completed\")\n",
    "\n",
    "\n",
    "        number_of_boxes =  len(np.array(self.heat.boxes))   \n",
    "        self.heat.boxes = np.array(self.heat.boxes).reshape(number_of_boxes,4)\n",
    "        if self.debug:\n",
    "            print ( \" \")\n",
    "            print (  \" ------- actual self.heat.boxes = \" )\n",
    "            print (str(self.heat.boxes))\n",
    "\n",
    "        self.insert_boxes_history(self.heat.boxes)\n",
    "        \n",
    "        #####################\n",
    "        #### frame history averaging \n",
    "        #####################\n",
    "\n",
    "        numbers_of_actual_boxes = len(self.heat.boxes)\n",
    "        \n",
    "        for i, box in enumerate(self.calc_history_average()):\n",
    "            if self.debug:\n",
    "                print (\"*******************************\")\n",
    "            ## in case is missing I will append the history box\n",
    "            if self.debug:\n",
    "                print ( \" i = \" + str(i) + \" numbers_of_actual_boxes = \" + str(numbers_of_actual_boxes))\n",
    "            if i +1 > numbers_of_actual_boxes:\n",
    "                if self.debug: \n",
    "                    print ( \" ****** appending \"+ str(box))\n",
    "                    \n",
    "                self.heat.boxes = np.vstack((self.heat.boxes,box))\n",
    "                numbers_of_actual_boxes += 1\n",
    "            if self.debug:print (\"history box average i = \" + str(i) )\n",
    "            if self.debug:print (\"   -->  avg.   = \"  + str(box) )\n",
    "            if self.debug:print (\"   -->  actual = \" + str(self.heat.boxes[i]))\n",
    "            if self.debug:print ( \"  -->  mean_squared_error = \" + str(self.calc_RMSE(box , self.heat.boxes[i] )))\n",
    "            \n",
    "            ## actual box substitution with history boxes\n",
    "            if self.calc_RMSE(box , self.heat.boxes[i] ) > 100:\n",
    "                self.heat.boxes[i] = box \n",
    "            if self.debug:\n",
    "                print (\" ---- \")\n",
    "            \n",
    "        return self.heat.image\n",
    "\n",
    "    def calc_RMSE(self, vector1, vector2):\n",
    "        sum_squared_diff = 0\n",
    "        n = 0\n",
    "        for element1, element2 in zip(vector1, vector2):\n",
    "            n +=1\n",
    "            sum_squared_diff += (element1 - element2) **2\n",
    "        mean_squared_error_result = np.sqrt(sum_squared_diff / n)\n",
    "        return mean_squared_error_result\n",
    "            \n",
    "    def put_zero_missing_history_elements(self):\n",
    "        if self.debug:\n",
    "            print (\" -----------------------------\")\n",
    "            print (\" ---- put_zero_missing_history_elements ----\")\n",
    "            print (\" -----------------------------\")\n",
    "            print ( pipeline1.boxes_history)\n",
    "            \n",
    "        self.max_length = 0\n",
    "        for boxes in pipeline1.boxes_history:\n",
    "            if len(boxes ) > self.max_length:\n",
    "                self.max_length = len(boxes)\n",
    "        if self.debug:print (\" --\")\n",
    "\n",
    "        for i, boxes in enumerate(pipeline1.boxes_history):\n",
    "            if self.debug:\n",
    "                print ( \" ----\")\n",
    "                print ( \" ------ processing box \" + str(i))\n",
    "                print ( boxes)\n",
    "                print ( \" ----\")\n",
    "                print ( \" ----\")\n",
    "\n",
    "\n",
    "            for to_add in range ( len(boxes), self.max_length):\n",
    "               if self.debug:print ( \" ** adding element to box \" + str(i))\n",
    "               pipeline1.boxes_history[i] = np.vstack((pipeline1.boxes_history[i], [0,0,0,0]))\n",
    "                \n",
    "        if self.debug:print ( pipeline1.boxes_history)\n",
    "        if self.debug:print (\" --\")\n",
    "\n",
    "        \n",
    "    def calc_history_average(self):\n",
    "        \n",
    "        ### fill the missing elements with zero\n",
    "        self.put_zero_missing_history_elements()\n",
    "        \n",
    "        boxes_sum = np.zeros((self.max_length,4))\n",
    "        boxes_n = np.zeros((self.max_length,4))\n",
    "\n",
    "        if self.debug:\n",
    "            print (\" _----------- \")\n",
    "            print (pipeline1.boxes_history)\n",
    "            print (\" _----------- \")\n",
    "\n",
    "        for element in np.array(pipeline1.boxes_history):\n",
    "            if self.debug:print (element )\n",
    "            if self.debug:print (\"####\")\n",
    "            n = 0\n",
    "            for i,box in enumerate(element):\n",
    "                # avoid the average on missing elements\n",
    "                if np.sum(box) == 0:\n",
    "                    pass\n",
    "                else:\n",
    "                    boxes_n[i] += 1\n",
    "                boxes_sum[i] += box\n",
    "\n",
    "        return boxes_sum/boxes_n\n",
    "\n",
    "    "
   ]
  },
  {
   "cell_type": "code",
   "execution_count": null,
   "metadata": {
    "scrolled": false
   },
   "outputs": [
    {
     "name": "stdout",
     "output_type": "stream",
     "text": [
      " .. classifier loaded \n"
     ]
    }
   ],
   "source": [
    "import cv2\n",
    "pipeline1 = pipeline(extractor, debug=False)\n",
    "image = mpimg.imread('test_images2/image20.jpg')\n",
    "\n",
    "image_heat = pipeline1.search_cars_by_steps(image)\n",
    "plt.title(\" pipeline output\")\n",
    "plt.imshow(image_heat)\n",
    "plt.show()\n",
    "\n",
    "image = mpimg.imread('test_images2/image1.jpg')\n",
    "image_heat = pipeline1.search_cars_by_steps(image)\n",
    "plt.title(\" pipeline output\")\n",
    "plt.imshow(image_heat)\n",
    "plt.show()\n",
    "\n",
    "image = mpimg.imread('test_images2/image10.jpg')\n",
    "image_heat = pipeline1.search_cars_by_steps(image)\n",
    "\n",
    "plt.title(\" pipeline output\")\n",
    "plt.imshow(image_heat)\n",
    "plt.show()\n",
    "\n",
    "\n"
   ]
  },
  {
   "cell_type": "code",
   "execution_count": null,
   "metadata": {
    "collapsed": true,
    "scrolled": false
   },
   "outputs": [],
   "source": [
    "pipeline1 = pipeline(debug=False,extractor=extractor)\n",
    "\n",
    "from moviepy.editor import VideoFileClip\n",
    "output_video_name = 'test_video_output.mp4'\n",
    "clip1 = VideoFileClip(\"test_video.mp4\")\n",
    "clip2 = clip1.subclip(0,2)\n",
    "output_video = clip2.fl_image(lambda x:pipeline1.search_cars_by_steps(x)) #NOTE: this function expects color images!!\n",
    "%time output_video.write_videofile(output_video_name, audio=False)\n",
    "print (\"Completed\")\n",
    "\n"
   ]
  },
  {
   "cell_type": "code",
   "execution_count": 153,
   "metadata": {
    "collapsed": true
   },
   "outputs": [],
   "source": [
    "a = np.array([[[1,2,3], [1,2,3], [1,2,3]],\n",
    "              [[1,2,3], [1,2,3]]\n",
    "             ])\n",
    "\n"
   ]
  },
  {
   "cell_type": "code",
   "execution_count": 237,
   "metadata": {},
   "outputs": [
    {
     "data": {
      "text/plain": [
       "array([[ 801,  380,  948,  488],\n",
       "       [ 987,  380, 1266,  514],\n",
       "       [ 362,  419,  550,  553]])"
      ]
     },
     "execution_count": 237,
     "metadata": {},
     "output_type": "execute_result"
    }
   ],
   "source": [
    "pipeline1.boxes_history[0]"
   ]
  },
  {
   "cell_type": "code",
   "execution_count": 238,
   "metadata": {},
   "outputs": [
    {
     "data": {
      "text/plain": [
       "array([[ 801,  380,  948,  475],\n",
       "       [ 987,  393, 1201,  514]])"
      ]
     },
     "execution_count": 238,
     "metadata": {},
     "output_type": "execute_result"
    }
   ],
   "source": [
    "pipeline1.boxes_history[1]"
   ]
  },
  {
   "cell_type": "code",
   "execution_count": 239,
   "metadata": {},
   "outputs": [
    {
     "name": "stdout",
     "output_type": "stream",
     "text": [
      " max_length = 3\n",
      "[[ 801  380  948  488]\n",
      " [ 987  380 1266  514]\n",
      " [ 362  419  550  553]]\n",
      "len(boxes) 3  max_length 3\n",
      "[[ 801  380  948  475]\n",
      " [ 987  393 1201  514]]\n",
      "len(boxes) 2  max_length 3\n",
      " to_add ... 2\n"
     ]
    }
   ],
   "source": [
    "max_length = 0\n",
    "for boxes in pipeline1.boxes_history:\n",
    "    if len(boxes ) > max_length:\n",
    "        max_length = len(boxes)\n",
    "print ( \" max_length = \" + str(max_length))\n",
    "\n",
    "for i, boxes in enumerate(pipeline1.boxes_history):\n",
    "    print ( boxes)\n",
    "    print (\"len(boxes) \" + str(len(boxes)) + \"  max_length \" + str(max_length) ) \n",
    "    for to_add in range ( len(boxes), max_length):\n",
    "       print ( \" to_add ... \" + str(to_add))\n",
    "       pipeline1.boxes_history[i] = np.vstack((pipeline1.boxes_history[1], [0,0,0,0]))\n",
    "        \n",
    "\n",
    "    "
   ]
  },
  {
   "cell_type": "code",
   "execution_count": 243,
   "metadata": {},
   "outputs": [
    {
     "data": {
      "text/plain": [
       "array([[ 801,  380,  948,  488],\n",
       "       [ 987,  380, 1266,  514],\n",
       "       [ 362,  419,  550,  553]])"
      ]
     },
     "execution_count": 243,
     "metadata": {},
     "output_type": "execute_result"
    }
   ],
   "source": [
    "pipeline1.boxes_history[0]"
   ]
  },
  {
   "cell_type": "code",
   "execution_count": 241,
   "metadata": {},
   "outputs": [
    {
     "data": {
      "text/plain": [
       "array([[ 801,  380,  948,  475],\n",
       "       [ 987,  393, 1201,  514],\n",
       "       [   0,    0,    0,    0]])"
      ]
     },
     "execution_count": 241,
     "metadata": {},
     "output_type": "execute_result"
    }
   ],
   "source": [
    "pipeline1.boxes_history[1]"
   ]
  },
  {
   "cell_type": "code",
   "execution_count": 245,
   "metadata": {},
   "outputs": [
    {
     "data": {
      "text/plain": [
       "array([[[ 801,  380,  948,  488],\n",
       "        [ 987,  380, 1266,  514],\n",
       "        [ 362,  419,  550,  553]],\n",
       "\n",
       "       [[ 801,  380,  948,  475],\n",
       "        [ 987,  393, 1201,  514],\n",
       "        [   0,    0,    0,    0]]])"
      ]
     },
     "execution_count": 245,
     "metadata": {},
     "output_type": "execute_result"
    }
   ],
   "source": [
    "np.array(pipeline1.boxes_history)"
   ]
  },
  {
   "cell_type": "code",
   "execution_count": 258,
   "metadata": {},
   "outputs": [
    {
     "data": {
      "text/plain": [
       "array([[ 0.,  0.,  0.,  0.],\n",
       "       [ 0.,  0.,  0.,  0.],\n",
       "       [ 0.,  0.,  0.,  0.]])"
      ]
     },
     "execution_count": 258,
     "metadata": {},
     "output_type": "execute_result"
    }
   ],
   "source": [
    "box_sum = np.zeros((max_length,4))\n",
    "box_sum\n"
   ]
  },
  {
   "cell_type": "code",
   "execution_count": 265,
   "metadata": {},
   "outputs": [
    {
     "name": "stdout",
     "output_type": "stream",
     "text": [
      "[[ 801  380  948  488]\n",
      " [ 987  380 1266  514]\n",
      " [ 362  419  550  553]]\n",
      "####\n",
      "[[ 801  380  948  475]\n",
      " [ 987  393 1201  514]\n",
      " [   0    0    0    0]]\n",
      "####\n",
      "found zero\n",
      "boxes_sum = [[ 1602.   760.  1896.   963.]\n",
      " [ 1974.   773.  2467.  1028.]\n",
      " [  362.   419.   550.   553.]]\n",
      "boxes_n = [[ 2.  2.  2.  2.]\n",
      " [ 2.  2.  2.  2.]\n",
      " [ 1.  1.  1.  1.]]\n",
      "average = [[  801.    380.    948.    481.5]\n",
      " [  987.    386.5  1233.5   514. ]\n",
      " [  362.    419.    550.    553. ]]\n",
      " --- \n"
     ]
    }
   ],
   "source": [
    "boxes_sum = np.zeros((max_length,4))\n",
    "boxes_n = np.zeros((max_length,4))\n",
    "\n",
    "\n",
    "for element in np.array(pipeline1.boxes_history):\n",
    "    print (element )\n",
    "    print (\"####\")\n",
    "    n = 0\n",
    "    for i,box in enumerate(element):\n",
    "        if np.sum(box) == 0:\n",
    "            print (\"found zero\")\n",
    "        else:\n",
    "            boxes_n[i] += 1\n",
    "        boxes_sum[i] += box\n",
    "print (\"boxes_sum = \" + str(boxes_sum))\n",
    "print (\"boxes_n = \" + str(boxes_n))\n",
    "\n",
    "print (\"average = \" + str(boxes_sum/boxes_n))\n",
    "\n",
    "\n",
    "print ( \" --- \")\n",
    "        \n",
    "                                       "
   ]
  },
  {
   "cell_type": "code",
   "execution_count": 204,
   "metadata": {
    "collapsed": true
   },
   "outputs": [],
   "source": [
    "arr = np.array(pipeline1.boxes_history).astype('float')"
   ]
  },
  {
   "cell_type": "code",
   "execution_count": 211,
   "metadata": {},
   "outputs": [
    {
     "data": {
      "text/plain": [
       "array([[[  801.,   380.,   948.,   488.],\n",
       "        [  987.,   380.,  1266.,   514.],\n",
       "        [  362.,   419.,   550.,   553.]],\n",
       "\n",
       "       [[  801.,   380.,   948.,   475.],\n",
       "        [  987.,   393.,  1201.,   514.],\n",
       "        [   nan,    nan,    nan,    nan]]])"
      ]
     },
     "execution_count": 211,
     "metadata": {},
     "output_type": "execute_result"
    }
   ],
   "source": [
    "arr"
   ]
  },
  {
   "cell_type": "code",
   "execution_count": 212,
   "metadata": {
    "collapsed": true
   },
   "outputs": [],
   "source": [
    "arr[arr == 0] = np.nan"
   ]
  },
  {
   "cell_type": "code",
   "execution_count": 213,
   "metadata": {},
   "outputs": [
    {
     "data": {
      "text/plain": [
       "array([[[  801.,   380.,   948.,   488.],\n",
       "        [  987.,   380.,  1266.,   514.],\n",
       "        [  362.,   419.,   550.,   553.]],\n",
       "\n",
       "       [[  801.,   380.,   948.,   475.],\n",
       "        [  987.,   393.,  1201.,   514.],\n",
       "        [   nan,    nan,    nan,    nan]]])"
      ]
     },
     "execution_count": 213,
     "metadata": {},
     "output_type": "execute_result"
    }
   ],
   "source": [
    "arr"
   ]
  },
  {
   "cell_type": "code",
   "execution_count": 224,
   "metadata": {},
   "outputs": [
    {
     "data": {
      "text/plain": [
       "array([[  801. ,   380. ,   948. ,   481.5],\n",
       "       [  987. ,   386.5,  1233.5,   514. ],\n",
       "       [  181. ,   209.5,   275. ,   276.5]])"
      ]
     },
     "execution_count": 224,
     "metadata": {},
     "output_type": "execute_result"
    }
   ],
   "source": [
    "np.nanmean(pipeline1.boxes_history, axis = 0 )"
   ]
  },
  {
   "cell_type": "code",
   "execution_count": 217,
   "metadata": {
    "collapsed": true
   },
   "outputs": [],
   "source": [
    "a = np.array([[1, np.nan], [3, 4]])"
   ]
  },
  {
   "cell_type": "code",
   "execution_count": 218,
   "metadata": {},
   "outputs": [
    {
     "data": {
      "text/plain": [
       "array([[  1.,  nan],\n",
       "       [  3.,   4.]])"
      ]
     },
     "execution_count": 218,
     "metadata": {},
     "output_type": "execute_result"
    }
   ],
   "source": [
    "a"
   ]
  },
  {
   "cell_type": "code",
   "execution_count": 220,
   "metadata": {},
   "outputs": [
    {
     "data": {
      "text/plain": [
       "array([ 2.,  4.])"
      ]
     },
     "execution_count": 220,
     "metadata": {},
     "output_type": "execute_result"
    }
   ],
   "source": [
    "np.nanmean(a, axis = 0)"
   ]
  },
  {
   "cell_type": "code",
   "execution_count": null,
   "metadata": {
    "collapsed": true
   },
   "outputs": [],
   "source": []
  }
 ],
 "metadata": {
  "kernelspec": {
   "display_name": "Python 3",
   "language": "python",
   "name": "python3"
  },
  "language_info": {
   "codemirror_mode": {
    "name": "ipython",
    "version": 3
   },
   "file_extension": ".py",
   "mimetype": "text/x-python",
   "name": "python",
   "nbconvert_exporter": "python",
   "pygments_lexer": "ipython3",
   "version": "3.5.2"
  },
  "widgets": {
   "state": {},
   "version": "1.1.2"
  }
 },
 "nbformat": 4,
 "nbformat_minor": 2
}
